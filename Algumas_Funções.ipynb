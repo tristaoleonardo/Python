{
  "nbformat": 4,
  "nbformat_minor": 0,
  "metadata": {
    "colab": {
      "name": "Algumas Funções",
      "provenance": [],
      "collapsed_sections": [],
      "authorship_tag": "ABX9TyNkyOVrWNysrk7aXTqsfnLH",
      "include_colab_link": true
    },
    "kernelspec": {
      "name": "python3",
      "display_name": "Python 3"
    }
  },
  "cells": [
    {
      "cell_type": "markdown",
      "metadata": {
        "id": "view-in-github",
        "colab_type": "text"
      },
      "source": [
        "<a href=\"https://colab.research.google.com/github/tristaoleonardo/Python/blob/master/Algumas_Fun%C3%A7%C3%B5es.ipynb\" target=\"_parent\"><img src=\"https://colab.research.google.com/assets/colab-badge.svg\" alt=\"Open In Colab\"/></a>"
      ]
    },
    {
      "cell_type": "markdown",
      "metadata": {
        "id": "evmP4sbzf0lk",
        "colab_type": "text"
      },
      "source": [
        "#Caderno de anotações"
      ]
    },
    {
      "cell_type": "markdown",
      "metadata": {
        "id": "MrGsXgTV5VFa",
        "colab_type": "text"
      },
      "source": [
        "##Navegando em pastas abrindo e fechando arquivos"
      ]
    },
    {
      "cell_type": "code",
      "metadata": {
        "id": "-CGF0Q_dBCDv",
        "colab_type": "code",
        "colab": {}
      },
      "source": [
        "# Conectando ao Google Drive\n",
        "# é necessário clicar no link e digitar o código para permitir acesso\n",
        "from google.colab import drive\n",
        "drive.mount('/content/gdrive')"
      ],
      "execution_count": null,
      "outputs": []
    },
    {
      "cell_type": "code",
      "metadata": {
        "id": "dmSoiNV0I8eL",
        "colab_type": "code",
        "colab": {}
      },
      "source": [
        "# listando arquivos que estão dentro da pasta\n",
        "!ls 'gdrive/My Drive/'"
      ],
      "execution_count": null,
      "outputs": []
    },
    {
      "cell_type": "code",
      "metadata": {
        "id": "VSw5TsEPJFjB",
        "colab_type": "code",
        "colab": {}
      },
      "source": [
        "# Lendo um arquivo txt que está dentro da pasta\n",
        "with open('/content/gdrive/My Drive/NOME_DO_ARQUIVO.txt','r') as arquivo\n",
        "  print(arquivo.read())"
      ],
      "execution_count": null,
      "outputs": []
    },
    {
      "cell_type": "code",
      "metadata": {
        "id": "rZTelQhzJ_XK",
        "colab_type": "code",
        "colab": {}
      },
      "source": [
        "#verificando o diretorio atual\n",
        "import os\n",
        "os.getcwd()"
      ],
      "execution_count": null,
      "outputs": []
    },
    {
      "cell_type": "code",
      "metadata": {
        "id": "oDcoNw5WKJtv",
        "colab_type": "code",
        "colab": {}
      },
      "source": [
        "#mudar de diretório\n",
        "import os\n",
        "os.chdir('CAMINHO DO DIRETORIO')"
      ],
      "execution_count": null,
      "outputs": []
    },
    {
      "cell_type": "code",
      "metadata": {
        "id": "_UOktiU6Koqg",
        "colab_type": "code",
        "colab": {}
      },
      "source": [
        "#listar pastas e arquivos que estão no diretório\n",
        "os.listdir()"
      ],
      "execution_count": null,
      "outputs": []
    },
    {
      "cell_type": "code",
      "metadata": {
        "id": "BRI8uDX2LJyn",
        "colab_type": "code",
        "colab": {}
      },
      "source": [
        "#criando um arquivo em .txt no diretório\n",
        "arquivo = 'arquivo.txt'\n",
        "file =  open(arquivo,'w')\n",
        "file.write(\"Escreva o que quiser dentro do arquivo\")\n",
        "file.close()\n",
        "\n",
        "#É necessário se atentar ao fato de que podemos abrir um arquivo para leitura ('r'), para escrita ('w'), ou para acrescentar ('a')\n"
      ],
      "execution_count": 18,
      "outputs": []
    },
    {
      "cell_type": "code",
      "metadata": {
        "id": "NLaG8OrwL3bG",
        "colab_type": "code",
        "colab": {}
      },
      "source": [
        "#renomear arquivo\n",
        "os.rename('arquivo.txt', 'renomear.txt' )"
      ],
      "execution_count": 19,
      "outputs": []
    },
    {
      "cell_type": "markdown",
      "metadata": {
        "id": "wQvDfKyQcdOZ",
        "colab_type": "text"
      },
      "source": [
        "##Strings\n",
        "---\n"
      ]
    },
    {
      "cell_type": "code",
      "metadata": {
        "id": "eVz0H4fbcjw8",
        "colab_type": "code",
        "colab": {
          "base_uri": "https://localhost:8080/"
        },
        "outputId": "87c14356-1f67-4139-b3d1-1f24d1b83068"
      },
      "source": [
        "#retorna a quantidade de caracteres da palavra ou da variável, considerando também o espaçamento.\n",
        "len(\"Olá Mundo !\")"
      ],
      "execution_count": null,
      "outputs": [
        {
          "output_type": "execute_result",
          "data": {
            "text/plain": [
              "11"
            ]
          },
          "metadata": {
            "tags": []
          },
          "execution_count": 1
        }
      ]
    },
    {
      "cell_type": "code",
      "metadata": {
        "id": "BjV_sZ-5dE59",
        "colab_type": "code",
        "colab": {
          "base_uri": "https://localhost:8080/"
        },
        "outputId": "db4232a7-dce9-42c5-dcd0-29912d29a9bb"
      },
      "source": [
        "#remove caracteres e espaços da string\n",
        "\"R$ 11,00\".strip('R$ ')"
      ],
      "execution_count": null,
      "outputs": [
        {
          "output_type": "execute_result",
          "data": {
            "application/vnd.google.colaboratory.intrinsic+json": {
              "type": "string"
            },
            "text/plain": [
              "'11,00'"
            ]
          },
          "metadata": {
            "tags": []
          },
          "execution_count": 2
        }
      ]
    },
    {
      "cell_type": "code",
      "metadata": {
        "id": "28cyRClDd6U0",
        "colab_type": "code",
        "colab": {
          "base_uri": "https://localhost:8080/"
        },
        "outputId": "9579b482-8cbf-4ca7-8c70-12f964b85d4f"
      },
      "source": [
        "#muda algum caracter por outro\n",
        "\"R$ 11,00\".replace('11,', '1000.')"
      ],
      "execution_count": null,
      "outputs": [
        {
          "output_type": "execute_result",
          "data": {
            "application/vnd.google.colaboratory.intrinsic+json": {
              "type": "string"
            },
            "text/plain": [
              "'R$ 1000.00'"
            ]
          },
          "metadata": {
            "tags": []
          },
          "execution_count": 3
        }
      ]
    },
    {
      "cell_type": "code",
      "metadata": {
        "id": "Dhn-2tqBfO31",
        "colab_type": "code",
        "colab": {
          "base_uri": "https://localhost:8080/"
        },
        "outputId": "fdc07fb2-d1db-427c-fe39-7ff1c41c437b"
      },
      "source": [
        "#transforma uma string em um número do tipo float\n",
        "float(\"R$ 11,00\".strip('R$ ').replace('11,', '1000.'))"
      ],
      "execution_count": null,
      "outputs": [
        {
          "output_type": "execute_result",
          "data": {
            "text/plain": [
              "1000.0"
            ]
          },
          "metadata": {
            "tags": []
          },
          "execution_count": 4
        }
      ]
    },
    {
      "cell_type": "code",
      "metadata": {
        "id": "TQMtpG0xgi7K",
        "colab_type": "code",
        "colab": {
          "base_uri": "https://localhost:8080/"
        },
        "outputId": "992a51a9-ae99-43e4-fda4-1b11912fb2e6"
      },
      "source": [
        "#separando strings em lista, se houver algo separando as plavaras com , ou ; é só passar tal caracter como argumento da função.\n",
        "nome = \"Leonardo Tristão Chargel\"\n",
        "nome.split()"
      ],
      "execution_count": null,
      "outputs": [
        {
          "output_type": "execute_result",
          "data": {
            "text/plain": [
              "['Leonardo', 'Tristão', 'Chargel']"
            ]
          },
          "metadata": {
            "tags": []
          },
          "execution_count": 5
        }
      ]
    },
    {
      "cell_type": "code",
      "metadata": {
        "id": "TBW8vg54lEYq",
        "colab_type": "code",
        "colab": {
          "base_uri": "https://localhost:8080/"
        },
        "outputId": "dc6d7937-6f64-4293-e66d-be0eb3677e5e"
      },
      "source": [
        "#Slincing\n",
        "alfabeto = \"abcdefghijlkmnopqrstuvwxyz\"\n",
        "alfabeto[:3]"
      ],
      "execution_count": null,
      "outputs": [
        {
          "output_type": "execute_result",
          "data": {
            "application/vnd.google.colaboratory.intrinsic+json": {
              "type": "string"
            },
            "text/plain": [
              "'abc'"
            ]
          },
          "metadata": {
            "tags": []
          },
          "execution_count": 6
        }
      ]
    },
    {
      "cell_type": "code",
      "metadata": {
        "id": "vPcdLa1bmAMH",
        "colab_type": "code",
        "colab": {
          "base_uri": "https://localhost:8080/"
        },
        "outputId": "712075b1-028c-4687-8e0f-f9550f573036"
      },
      "source": [
        "#possibilidade de atribuir um step, ou seja um pulo.\n",
        "alfabeto[::2]"
      ],
      "execution_count": null,
      "outputs": [
        {
          "output_type": "execute_result",
          "data": {
            "application/vnd.google.colaboratory.intrinsic+json": {
              "type": "string"
            },
            "text/plain": [
              "'acegilmoqsuwy'"
            ]
          },
          "metadata": {
            "tags": []
          },
          "execution_count": 7
        }
      ]
    },
    {
      "cell_type": "code",
      "metadata": {
        "id": "wp6X6dpgmzoA",
        "colab_type": "code",
        "colab": {
          "base_uri": "https://localhost:8080/"
        },
        "outputId": "2c73b63b-f21f-43b3-bf9d-05cef0d30d8d"
      },
      "source": [
        "# Colocando em maiúsculo a primeira letra da string, apenas a primeira letra.\n",
        "nome =  \"leonardo tristão chargel\"\n",
        "nome.capitalize()"
      ],
      "execution_count": null,
      "outputs": [
        {
          "output_type": "execute_result",
          "data": {
            "application/vnd.google.colaboratory.intrinsic+json": {
              "type": "string"
            },
            "text/plain": [
              "'Leonardo tristão chargel'"
            ]
          },
          "metadata": {
            "tags": []
          },
          "execution_count": 8
        }
      ]
    },
    {
      "cell_type": "code",
      "metadata": {
        "id": "2FLtvX4_CCk9",
        "colab_type": "code",
        "colab": {
          "base_uri": "https://localhost:8080/"
        },
        "outputId": "734b9ef1-db39-4319-97e3-22ba9bab882a"
      },
      "source": [
        "#Coloca a primeira letra de cada palavra em maiúsculo\n",
        "nome = \"leonardo tristão chargel\"\n",
        "nome.title()"
      ],
      "execution_count": null,
      "outputs": [
        {
          "output_type": "execute_result",
          "data": {
            "application/vnd.google.colaboratory.intrinsic+json": {
              "type": "string"
            },
            "text/plain": [
              "'Leonardo Tristão Chargel'"
            ]
          },
          "metadata": {
            "tags": []
          },
          "execution_count": 9
        }
      ]
    },
    {
      "cell_type": "code",
      "metadata": {
        "id": "houN4syvnKeN",
        "colab_type": "code",
        "colab": {
          "base_uri": "https://localhost:8080/"
        },
        "outputId": "6c2ca18e-37a1-4d51-da9f-57c63bfbe32f"
      },
      "source": [
        "#Coloca em minúsculo todas as letras da string\n",
        "nome = \"Leonardo TRIStão CHARgel\"\n",
        "nome.lower()"
      ],
      "execution_count": null,
      "outputs": [
        {
          "output_type": "execute_result",
          "data": {
            "application/vnd.google.colaboratory.intrinsic+json": {
              "type": "string"
            },
            "text/plain": [
              "'leonardo tristão chargel'"
            ]
          },
          "metadata": {
            "tags": []
          },
          "execution_count": 10
        }
      ]
    },
    {
      "cell_type": "code",
      "metadata": {
        "id": "JxaFPfUdodse",
        "colab_type": "code",
        "colab": {
          "base_uri": "https://localhost:8080/"
        },
        "outputId": "438d14a3-e514-462a-9567-b90dca1917e3"
      },
      "source": [
        "#Coloca em maiúsculo todas as letras da string\n",
        "nome = \"Leonardo TRIStão CHARgel\"\n",
        "nome.upper()"
      ],
      "execution_count": null,
      "outputs": [
        {
          "output_type": "execute_result",
          "data": {
            "application/vnd.google.colaboratory.intrinsic+json": {
              "type": "string"
            },
            "text/plain": [
              "'LEONARDO TRISTÃO CHARGEL'"
            ]
          },
          "metadata": {
            "tags": []
          },
          "execution_count": 11
        }
      ]
    },
    {
      "cell_type": "code",
      "metadata": {
        "id": "xQqtpW90CiGN",
        "colab_type": "code",
        "colab": {
          "base_uri": "https://localhost:8080/"
        },
        "outputId": "ba3734cb-c762-4f28-cbe3-6bb808262f1d"
      },
      "source": [
        "#inverte maiúsculo com mínusculo\n",
        "nome = \"Leonardo Tristão Chargel\"\n",
        "nome.swapcase()"
      ],
      "execution_count": null,
      "outputs": [
        {
          "output_type": "execute_result",
          "data": {
            "application/vnd.google.colaboratory.intrinsic+json": {
              "type": "string"
            },
            "text/plain": [
              "'lEONARDO tRISTÃO cHARGEL'"
            ]
          },
          "metadata": {
            "tags": []
          },
          "execution_count": 12
        }
      ]
    },
    {
      "cell_type": "markdown",
      "metadata": {
        "id": "PvlkQh1XMBpW",
        "colab_type": "text"
      },
      "source": [
        "## Operadores Relacionais\n",
        "\n",
        "---"
      ]
    },
    {
      "cell_type": "markdown",
      "metadata": {
        "id": "q__LePfZL1Bx",
        "colab_type": "text"
      },
      "source": [
        "Os Operadores Relacionais server para você fazer comparações entre valores ou variáveis.\n",
        "\n",
        "Após avaliar uma expressão, os Operadores Relacionais retornam um dado do tipo `bool`, ou seja, `True` ou `False`. Veja os 6 operadores:\n",
        "\n",
        "\n",
        "| **OPERADOR** | **DESCRIÇÃO**    |\n",
        "|:------------:|:----------------:|\n",
        "| <            | Menor que        |\n",
        "| >            | Maior que        |\n",
        "| <=           | Menor or igual a |\n",
        "| >=           | Maior ou igual a |\n",
        "| ==           | Igual a          |\n",
        "| \\!=          | Diferente de     |"
      ]
    },
    {
      "cell_type": "markdown",
      "metadata": {
        "id": "drWXLrMYMZ6t",
        "colab_type": "text"
      },
      "source": [
        "## Operadores Lógicos\n",
        "\n",
        "---"
      ]
    },
    {
      "cell_type": "markdown",
      "metadata": {
        "id": "gxDVlmMpMUxN",
        "colab_type": "text"
      },
      "source": [
        "Os Operadores Lógicos são aqueles que permitem você unir várias expressões lógicas, várias comparações.\n",
        "\n",
        "Em *scripts* ou projetos de *Data Science* que você irá fazer, com certeza lidará com situações onde vai precisar avaliar várias condições ao mesmo tempo.\n",
        "\n",
        "Os três Operadores Lógicos que você precisa conhecer são:\n",
        "\n",
        "| **OPERADORES LÓGICOS** | **DESCRIÇÃO**                                         |\n",
        "|:----------------------:|:-----------------------------------------------------:|\n",
        "| and                    | Verifica se todas as expressões são True              |\n",
        "| or                     | Verifica se pelo menos uma expressão é verdadeira     |\n",
        "| not                    | Verifica a negação da expressão\\. Inverte o resultado |\n",
        "\n",
        "\n",
        "Com eles, podemos fazer diversas conferências, que serão muito úteis no nosso código, seja para trabalhar e limpar os dados, ou executar uma função em uma aplicação."
      ]
    },
    {
      "cell_type": "code",
      "metadata": {
        "id": "7RnqPqR05huJ",
        "colab_type": "code",
        "colab": {}
      },
      "source": [
        ""
      ],
      "execution_count": null,
      "outputs": []
    },
    {
      "cell_type": "markdown",
      "metadata": {
        "id": "upjqN8vC4zKz",
        "colab_type": "text"
      },
      "source": [
        "##Matplolib \n",
        "\n",
        "---\n",
        "\n",
        "\n",
        "\n"
      ]
    }
  ]
}